{
 "cells": [
  {
   "cell_type": "markdown",
   "id": "316a5cf8-a384-4023-95a4-12954bf95536",
   "metadata": {},
   "source": [
    "### Hello World !"
   ]
  },
  {
   "cell_type": "code",
   "execution_count": 1,
   "id": "a6fdf2b1-4427-4e83-8ec9-0f11dc57b539",
   "metadata": {},
   "outputs": [
    {
     "name": "stdout",
     "output_type": "stream",
     "text": [
      "Hello World!\n"
     ]
    }
   ],
   "source": [
    "print(\"Hello World!\")"
   ]
  }
 ],
 "metadata": {
  "kernelspec": {
   "display_name": "Python 3 (ipykernel)",
   "language": "python",
   "name": "python3"
  },
  "language_info": {
   "codemirror_mode": {
    "name": "ipython",
    "version": 3
   },
   "file_extension": ".py",
   "mimetype": "text/x-python",
   "name": "python",
   "nbconvert_exporter": "python",
   "pygments_lexer": "ipython3",
   "version": "3.9.12"
  }
 },
 "nbformat": 4,
 "nbformat_minor": 5
}
